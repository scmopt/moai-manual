{
 "cells": [
  {
   "cell_type": "markdown",
   "id": "2174ed7c-02f5-4dee-9e36-644c8cb8992e",
   "metadata": {},
   "source": [
    "[![](https://colab.research.google.com/assets/colab-badge.svg)](https://colab.research.google.com/github/scmopt/moai-manual/blob/main/optseq-trial.ipynb)\n"
   ]
  },
  {
   "cell_type": "markdown",
   "id": "1e8b6530-bced-4f3d-af18-414290c60302",
   "metadata": {
    "editable": true,
    "slideshow": {
     "slide_type": ""
    },
    "tags": []
   },
   "source": [
    "# AMPLPYパッケージの使用法\n",
    "\n",
    "> AMPLをPythonから呼び出すためのAMPLPYパッケージの使用法"
   ]
  },
  {
   "cell_type": "markdown",
   "id": "3117dace-7a94-4a1f-9574-3c29c33b2da9",
   "metadata": {
    "id": "vW9u21szSdWJ"
   },
   "source": [
    "## ローカルで amplpyを動かす方法\n",
    "\n",
    "AMPLをインストールしてampl.exeがある場所をEnvironmentで指定する。\n"
   ]
  },
  {
   "cell_type": "code",
   "execution_count": null,
   "id": "0207c0c2-bdb4-42cd-9ac6-b118dfbb6e19",
   "metadata": {},
   "outputs": [],
   "source": [
    "from amplpy import AMPL, Environment\n",
    "\n",
    "env = Environment(\"/Users/mikiokubo/Documents/ampl/\")\n",
    "ampl = AMPL(env)"
   ]
  },
  {
   "cell_type": "markdown",
   "id": "d16f5e99-e97a-4bf1-a94a-23e91a9eafa5",
   "metadata": {
    "id": "kknY4yKEfjcP"
   },
   "source": [
    "## Google Colab.で使う場合\n",
    "\n",
    "ampl_notebook関数で、使うソルバー(modules)とlicense_uuidを設定する（空白でも動く）。"
   ]
  },
  {
   "cell_type": "code",
   "execution_count": null,
   "id": "dc45ca0b-1385-46cf-9b58-da711dbfbe6c",
   "metadata": {},
   "outputs": [],
   "source": [
    "!pip install amplpy\n",
    "from amplpy import ampl_notebook\n",
    "ampl = ampl_notebook(\n",
    "    modules=[\"highs\",\"gurobi\",\"cbc\",\"scip\",\"coin\"]\n",
    "            #coin includes ipopt, couenne, bonmin\n",
    "    license_uuid=None)"
   ]
  },
  {
   "cell_type": "markdown",
   "id": "9393b0c6-4d4f-46ed-83f2-120703efc52f",
   "metadata": {
    "editable": true,
    "slideshow": {
     "slide_type": ""
    },
    "tags": []
   },
   "source": [
    "## AMPLPYライブラリ\n",
    "\n",
    "AMPLをPythonから呼び出して使うためには amplpy（アンプルパイと読む）パッケージを使う。AMPLはモデルファイル(.mod)とデータファイル(.dat)とコマンドファイル(.run)から構成される。\n"
   ]
  },
  {
   "cell_type": "markdown",
   "id": "79400b69-8904-425b-9940-d728a700c895",
   "metadata": {},
   "source": [
    "## マジックコマンド writefile\n",
    "\n",
    "マジックコマンド `%%writefile` の後にファイル名を入れてモデルファイルを出力しておく。"
   ]
  },
  {
   "cell_type": "code",
   "execution_count": 6,
   "id": "7a5c4ee2-04e7-44c2-b5c2-ea59dc752e69",
   "metadata": {},
   "outputs": [
    {
     "name": "stdout",
     "output_type": "stream",
     "text": [
      "Overwriting production.mod\n"
     ]
    }
   ],
   "source": [
    "%%writefile production.mod\n",
    "#%%writefile production.mod\n",
    "var x >= 0; # 製品1の生産量\n",
    "var y >= 0; # 製品2の生産量\n",
    "maximize Profit: 40 * x + 30 * y;\n",
    "subject to Constraint1: x + 2 * y <= 20; # 資源1の制約\n",
    "subject to Constraint2: 3 * x + y <= 30; # 資源2の制約"
   ]
  },
  {
   "cell_type": "markdown",
   "id": "a5276bd9-0740-4f1c-8bad-20ca34560b8b",
   "metadata": {},
   "source": [
    "## AMPLクラス\n",
    "\n",
    "モデルインスタンス `ampl` に対しては、以下のメソッドが使える。\n",
    "\n",
    "- `read`: モデルファイルを読み込む。\n",
    "- `read_data`: データファイルを読み込む。\n",
    "- `eval`: AMPLコマンドを実行する。\n",
    "- `solve`: ソルバーを用いて求解する。\n",
    "- `option`: オプションを設定する。\n",
    "- `get_value`: 値を得る。\n",
    "  \n",
    "これらのメソッドを用いてソルバー指定、最適化や結果を得ることができる。"
   ]
  },
  {
   "cell_type": "code",
   "execution_count": 3,
   "id": "2f17079d-016d-421b-9010-f16b3e7abf28",
   "metadata": {},
   "outputs": [
    {
     "name": "stdout",
     "output_type": "stream",
     "text": [
      "HiGHS 1.10.0: optimal solution; objective 500\n",
      "2 simplex iterations\n",
      "0 barrier iterations\n",
      "Profit= 500\n",
      "x= 8\n",
      "y= 6\n"
     ]
    }
   ],
   "source": [
    "ampl.read(\"production.mod\")\n",
    "ampl.option[\"solver\"] = \"highs\"\n",
    "ampl.solve()\n",
    "print(\"Profit=\", ampl.get_value(\"Profit\"))\n",
    "print(\"x=\", ampl.get_value(\"x\"))\n",
    "print(\"y=\", ampl.get_value(\"y\"))"
   ]
  },
  {
   "cell_type": "markdown",
   "id": "cb410410-a8d6-4e1b-82da-908956ed98c7",
   "metadata": {},
   "source": [
    "## モデルとデータの分離\n",
    "\n",
    "AMPLの1つの特徴としてモデルとデータの分離があげられる。以下は AMPLコマンドで普通に書いた例を示す。\n",
    "\n",
    "セルの先頭でマジックコマンド`%%ampl_eval`と書いた後に、AMPLのコマンドを記述する。"
   ]
  },
  {
   "cell_type": "code",
   "execution_count": 7,
   "id": "67db46ee-b6f7-4785-ac9a-58bddd43510f",
   "metadata": {},
   "outputs": [
    {
     "name": "stdout",
     "output_type": "stream",
     "text": [
      "HiGHS 1.10.0: optimal solution; objective 15\n",
      "0 simplex iterations\n",
      "0 barrier iterations\n",
      "Profit = 15\n",
      "x = 5\n",
      "y = 0\n",
      "\n"
     ]
    }
   ],
   "source": [
    "%%ampl_eval\n",
    "#%%ampl_eval\n",
    "reset;\n",
    "model;\n",
    "param a;\n",
    "param b;\n",
    "param c;\n",
    "var x >= 0;\n",
    "var y >= 0;\n",
    "maximize Profit: a * x + b * y;\n",
    "subject to Constraint1: x + y <= c;\n",
    "\n",
    "data;\n",
    "param a := 3;\n",
    "param b := 2;\n",
    "param c := 5;\n",
    "\n",
    "option solver highs;\n",
    "solve;\n",
    "display Profit, x, y;"
   ]
  },
  {
   "cell_type": "markdown",
   "id": "3dca1abf-ac10-4903-b903-dc9302ae4985",
   "metadata": {},
   "source": [
    "amplpyを使うと、データをPythonで入力することができる。これによって、Pythonのデータ分析とAMPLの融合が可能になる。\n",
    "\n",
    "まず、マジックコマンド `%%writefile` で例題を`example.mod` に保存しておく。"
   ]
  },
  {
   "cell_type": "code",
   "execution_count": 8,
   "id": "7db54bb2-f209-435b-86b5-86f213cba562",
   "metadata": {},
   "outputs": [
    {
     "name": "stdout",
     "output_type": "stream",
     "text": [
      "Overwriting example.mod\n"
     ]
    }
   ],
   "source": [
    "%%writefile example.mod\n",
    "#%%writefile example.mod\n",
    "param a;\n",
    "param b;\n",
    "param c;\n",
    "var x >= 0;\n",
    "var y >= 0;\n",
    "maximize Profit: a * x + b * y;\n",
    "subject to Constraint1: x + y <= c;"
   ]
  },
  {
   "cell_type": "markdown",
   "id": "aa4885e7-cb86-488b-9676-16e6bdd4de12",
   "metadata": {},
   "source": [
    "amplをインストールした環境は`env`に保存されているので、amplのモデルインスタンス`m`を作り、ファイル`example.mod`から読み込んで\n",
    "モデルインスタンスを生成する。パラメータは`param[パラメータ名]`に代入することによって設定できる。\n",
    "\n",
    "また、最適化は`solve`メソッドで起動し、最適値やスカラーの変数は`get_value`で得ることができる。"
   ]
  },
  {
   "cell_type": "code",
   "execution_count": 5,
   "id": "69741380-3d35-4b33-9704-892ed507ea76",
   "metadata": {},
   "outputs": [
    {
     "name": "stdout",
     "output_type": "stream",
     "text": [
      "HiGHS 1.10.0: optimal solution; objective 15\n",
      "0 simplex iterations\n",
      "0 barrier iterations\n",
      "Profit= 15\n",
      "x= 5\n",
      "y= 0\n"
     ]
    }
   ],
   "source": [
    "m = AMPL(env)\n",
    "m.read(\"example.mod\")\n",
    "m.param[\"a\"] = 3\n",
    "m.param[\"b\"] = 2\n",
    "m.param[\"c\"] = 5\n",
    "\n",
    "m.option[\"solver\"] = \"highs\"\n",
    "m.solve()\n",
    "print(\"Profit=\", m.get_value(\"Profit\"))\n",
    "print(\"x=\", m.get_value(\"x\"))\n",
    "print(\"y=\", m.get_value(\"y\"))"
   ]
  },
  {
   "cell_type": "markdown",
   "id": "83b03d3b-3bbe-408b-9ed1-6b4c95c71864",
   "metadata": {},
   "source": [
    "## 多制約ナップサック問題\n",
    "\n",
    "多制約ナップサック問題を用いて、データをPythonのコマンドで入力する方法を示す。\n",
    "\n",
    "まず、マジックコマンド `%%writefile` でモデルを`mkp.mod` に保存しておく。\n"
   ]
  },
  {
   "cell_type": "code",
   "execution_count": 9,
   "id": "d472004d-f507-4a8e-b4d0-4f06d2622db6",
   "metadata": {
    "colab": {
     "base_uri": "https://localhost:8080/"
    },
    "id": "drZSo_Ul9Dit",
    "outputId": "fc758b0c-8ea4-47bf-999e-18296993b9bc"
   },
   "outputs": [
    {
     "name": "stdout",
     "output_type": "stream",
     "text": [
      "Overwriting mkp.mod\n"
     ]
    }
   ],
   "source": [
    "%%writefile  mkp.mod\n",
    "#%%writefile  mkp.mod\n",
    "# 多制約ナップサック問題のAMPLモデル\n",
    "set ITEMS;      # アイテムの集合\n",
    "set RESOURCES;  # リソースの集合\n",
    "\n",
    "param value{i in ITEMS} >= 0;    # 各アイテムの価値\n",
    "param weight{r in RESOURCES, i in ITEMS} >= 0;    # 各アイテムの各リソース消費量\n",
    "param capacity{r in RESOURCES} >= 0;    # 各リソースの容量\n",
    "\n",
    "var select{i in ITEMS} binary;    # アイテム選択変数\n",
    "\n",
    "maximize TotalValue: sum{i in ITEMS} value[i] * select[i];\n",
    "\n",
    "subject to ResourceCapacity{r in RESOURCES}:\n",
    "    sum{i in ITEMS} weight[r,i] * select[i] <= capacity[r];\n"
   ]
  },
  {
   "cell_type": "markdown",
   "id": "dfa55abc-ad07-4a43-9208-5f9b002e1feb",
   "metadata": {},
   "source": [
    "amplインスタンス`m`を生成し、モデルを読み込み、集合、パラメータオプションを設定する。\n",
    "\n",
    "集合は`set`に**リスト**を代入し、パラメータは`param`に**辞書**を代入し、\n",
    "ソルバーオプション`option「\"solver\"]`にソルバー名を代入することによって設定できる。\n",
    "\n",
    "最適化した後の値（最適値などのスカラー）は`get_value`で、変数の表示は`display`で表示できる。\n",
    "\n",
    "変数インスタンスは`var`で得ることができ、\n",
    "`to_dict` (`to_list`, `to_pandas`, `to_string`) で辞書（リスト、データフレーム、文字列）に\n",
    "変換できる。"
   ]
  },
  {
   "cell_type": "code",
   "execution_count": 12,
   "id": "fb4de210-ace0-4653-9743-25fe81c8fb34",
   "metadata": {
    "colab": {
     "base_uri": "https://localhost:8080/"
    },
    "id": "yKOPQK8Z95Fg",
    "outputId": "68dcaf8a-97e4-41af-94e6-be0acde3ea48"
   },
   "outputs": [
    {
     "name": "stdout",
     "output_type": "stream",
     "text": [
      "value= {1: 3, 2: 10, 3: 2}\n",
      "weight= {('A', 1): 13, ('A', 2): 8, ('A', 3): 20, ('B', 1): 29, ('B', 2): 19, ('B', 3): 20}\n",
      "HiGHS 1.10.0: optimal solution; objective 13\n",
      "0 simplex iterations\n",
      "0 branching nodes\n",
      "TotalValue= 13\n",
      "select [*] :=\n",
      "1  1\n",
      "2  1\n",
      "3  0\n",
      ";\n",
      "\n"
     ]
    },
    {
     "data": {
      "text/plain": [
       "{1: 1, 2: 1, 3: 0}"
      ]
     },
     "execution_count": 12,
     "metadata": {},
     "output_type": "execute_result"
    }
   ],
   "source": [
    "import random\n",
    "random.seed(1)\n",
    "m = AMPL(env)\n",
    "m.read(\"mkp.mod\")\n",
    "m.set[\"ITEMS\"] = [1,2,3]\n",
    "m.set[\"RESOURCES\"] = [\"A\",\"B\"]\n",
    "value = {i:random.randint(1,10) for i in [1,2,3]}\n",
    "print(\"value=\",value)\n",
    "m.param[\"value\"] = value\n",
    "weight = {(r,i):random.randint(5,30) \n",
    "                    for r in [\"A\",\"B\"] for i in [1,2,3]}\n",
    "print(\"weight=\",weight)\n",
    "m.param[\"weight\"] = weight\n",
    "m.param[\"capacity\"] = {r:50 for r in [\"A\",\"B\"]}\n",
    "\n",
    "m.option[\"solver\"] = \"highs\"\n",
    "m.solve()\n",
    "\n",
    "print(\"TotalValue=\", m.get_value(\"TotalValue\"))\n",
    "m.display(\"select\")\n",
    "m.var[\"select\"].to_dict() #変数を辞書に変換"
   ]
  },
  {
   "cell_type": "markdown",
   "id": "50f9205f-8ca1-43ea-a737-5fb1c97fba74",
   "metadata": {
    "id": "oqQEmekRwdvQ"
   },
   "source": [
    "## 栄養問題\n",
    "\n",
    "栄養問題を例として、pandasのデータフレームからデータを生成する方法を示す。"
   ]
  },
  {
   "cell_type": "code",
   "execution_count": 13,
   "id": "99a1da44-a61e-4f13-bc32-cda3ade638a0",
   "metadata": {
    "colab": {
     "base_uri": "https://localhost:8080/"
    },
    "id": "sp6WHt4GHWMx",
    "outputId": "56cfb6b9-a37c-4d95-e431-df6e4d6ffbc8"
   },
   "outputs": [
    {
     "name": "stdout",
     "output_type": "stream",
     "text": [
      "Overwriting diet.mod\n"
     ]
    }
   ],
   "source": [
    "%%writefile  diet.mod\n",
    "#%%writefile  diet.mod\n",
    "# 栄養問題のAMPLモデル\n",
    "set FOODS;      # 食品の集合\n",
    "set NUTRIENTS;  # 栄養素の集合\n",
    "\n",
    "param cost{f in FOODS} >= 0;    # 各食品の単価\n",
    "param amount{n in NUTRIENTS, f in FOODS} >= 0;    # 各食品に含まれる栄養素の量\n",
    "param min_req{n in NUTRIENTS} >= 0;    # 各栄養素の最小必要量\n",
    "param max_req{n in NUTRIENTS} >= 0;    # 各栄養素の最大許容量\n",
    "\n",
    "var buy{f in FOODS} >= 0;    # 各食品の購入量\n",
    "\n",
    "minimize TotalCost: sum{f in FOODS} cost[f] * buy[f];\n",
    "\n",
    "subject to MinNutrient{n in NUTRIENTS}:\n",
    "    sum{f in FOODS} amount[n,f] * buy[f] >= min_req[n];\n",
    "\n",
    "subject to MaxNutrient{n in NUTRIENTS}:\n",
    "    sum{f in FOODS} amount[n,f] * buy[f] <= max_req[n];"
   ]
  },
  {
   "cell_type": "markdown",
   "id": "f5246ac1-7e14-4732-bf0c-532378a55916",
   "metadata": {},
   "source": [
    "データフレームを準備しておく。\n"
   ]
  },
  {
   "cell_type": "code",
   "execution_count": 23,
   "id": "b0ce7565-d748-4c96-9dad-e18dd04b58bf",
   "metadata": {
    "colab": {
     "base_uri": "https://localhost:8080/",
     "height": 237
    },
    "id": "JIl5MSV2Hbvu",
    "outputId": "c9b25cbf-21b1-481d-cc53-bf86886b8719"
   },
   "outputs": [
    {
     "data": {
      "text/html": [
       "<div>\n",
       "<style scoped>\n",
       "    .dataframe tbody tr th:only-of-type {\n",
       "        vertical-align: middle;\n",
       "    }\n",
       "\n",
       "    .dataframe tbody tr th {\n",
       "        vertical-align: top;\n",
       "    }\n",
       "\n",
       "    .dataframe thead th {\n",
       "        text-align: right;\n",
       "    }\n",
       "</style>\n",
       "<table border=\"1\" class=\"dataframe\">\n",
       "  <thead>\n",
       "    <tr style=\"text-align: right;\">\n",
       "      <th></th>\n",
       "      <th>BEEF</th>\n",
       "      <th>CHK</th>\n",
       "      <th>FISH</th>\n",
       "      <th>HAM</th>\n",
       "      <th>MCH</th>\n",
       "      <th>MTL</th>\n",
       "      <th>SPG</th>\n",
       "      <th>TUR</th>\n",
       "    </tr>\n",
       "  </thead>\n",
       "  <tbody>\n",
       "    <tr>\n",
       "      <th>A</th>\n",
       "      <td>60</td>\n",
       "      <td>8</td>\n",
       "      <td>8</td>\n",
       "      <td>40</td>\n",
       "      <td>15</td>\n",
       "      <td>70</td>\n",
       "      <td>25</td>\n",
       "      <td>60</td>\n",
       "    </tr>\n",
       "    <tr>\n",
       "      <th>C</th>\n",
       "      <td>20</td>\n",
       "      <td>0</td>\n",
       "      <td>10</td>\n",
       "      <td>40</td>\n",
       "      <td>35</td>\n",
       "      <td>30</td>\n",
       "      <td>50</td>\n",
       "      <td>20</td>\n",
       "    </tr>\n",
       "    <tr>\n",
       "      <th>B1</th>\n",
       "      <td>10</td>\n",
       "      <td>20</td>\n",
       "      <td>15</td>\n",
       "      <td>35</td>\n",
       "      <td>15</td>\n",
       "      <td>15</td>\n",
       "      <td>25</td>\n",
       "      <td>15</td>\n",
       "    </tr>\n",
       "    <tr>\n",
       "      <th>B2</th>\n",
       "      <td>15</td>\n",
       "      <td>20</td>\n",
       "      <td>10</td>\n",
       "      <td>10</td>\n",
       "      <td>15</td>\n",
       "      <td>15</td>\n",
       "      <td>15</td>\n",
       "      <td>10</td>\n",
       "    </tr>\n",
       "    <tr>\n",
       "      <th>NA</th>\n",
       "      <td>928</td>\n",
       "      <td>2180</td>\n",
       "      <td>945</td>\n",
       "      <td>278</td>\n",
       "      <td>1182</td>\n",
       "      <td>896</td>\n",
       "      <td>1329</td>\n",
       "      <td>1397</td>\n",
       "    </tr>\n",
       "    <tr>\n",
       "      <th>CAL</th>\n",
       "      <td>295</td>\n",
       "      <td>770</td>\n",
       "      <td>440</td>\n",
       "      <td>430</td>\n",
       "      <td>315</td>\n",
       "      <td>400</td>\n",
       "      <td>379</td>\n",
       "      <td>450</td>\n",
       "    </tr>\n",
       "  </tbody>\n",
       "</table>\n",
       "</div>"
      ],
      "text/plain": [
       "     BEEF   CHK  FISH  HAM   MCH  MTL   SPG   TUR\n",
       "A      60     8     8   40    15   70    25    60\n",
       "C      20     0    10   40    35   30    50    20\n",
       "B1     10    20    15   35    15   15    25    15\n",
       "B2     15    20    10   10    15   15    15    10\n",
       "NA    928  2180   945  278  1182  896  1329  1397\n",
       "CAL   295   770   440  430   315  400   379   450"
      ]
     },
     "execution_count": 23,
     "metadata": {},
     "output_type": "execute_result"
    }
   ],
   "source": [
    "import pandas as pd\n",
    "import numpy as np\n",
    "\n",
    "food_df = pd.DataFrame(\n",
    "    [\n",
    "        (\"BEEF\", 3.59),\n",
    "        (\"CHK\", 2.59),\n",
    "        (\"FISH\", 2.29),\n",
    "        (\"HAM\", 2.89),\n",
    "        (\"MCH\", 1.89),\n",
    "        (\"MTL\", 1.99),\n",
    "        (\"SPG\", 1.99),\n",
    "        (\"TUR\", 2.49),\n",
    "    ],\n",
    "    columns=[\"FOODS\", \"cost\"],\n",
    ").set_index(\"FOODS\")\n",
    "\n",
    "# Create a pandas.DataFrame with data for n_min, n_max\n",
    "nutr_df = pd.DataFrame(\n",
    "    [\n",
    "        (\"A\", 700, 20000),\n",
    "        (\"C\", 700, 20000),\n",
    "        (\"B1\", 700, 20000),\n",
    "        (\"B2\", 700, 20000),\n",
    "        (\"NA\", 0, 50000),\n",
    "        (\"CAL\", 16000, 24000),\n",
    "    ],\n",
    "    columns=[\"NUTRIENTS\", \"min_req\", \"max_req\"],\n",
    ").set_index(\"NUTRIENTS\")\n",
    "\n",
    "amt_df = pd.DataFrame(\n",
    "    np.matrix(\n",
    "        [\n",
    "            [60, 8, 8, 40, 15, 70, 25, 60],\n",
    "            [20, 0, 10, 40, 35, 30, 50, 20],\n",
    "            [10, 20, 15, 35, 15, 15, 25, 15],\n",
    "            [15, 20, 10, 10, 15, 15, 15, 10],\n",
    "            [928, 2180, 945, 278, 1182, 896, 1329, 1397],\n",
    "            [295, 770, 440, 430, 315, 400, 379, 450],\n",
    "        ]\n",
    "    ),\n",
    "    columns=food_df.index.tolist(),\n",
    "    index=nutr_df.index.tolist(),\n",
    ")\n",
    "\n",
    "amt_df"
   ]
  },
  {
   "cell_type": "markdown",
   "id": "4594df70-7322-4589-bf72-a73370ac0c5b",
   "metadata": {},
   "source": [
    "モデルインスタンス`m`の`set_data`メソッドでデータフレームからデータとインデックス集合を同時に設定できる。\n",
    "1番目の引数`data`がデータフレームであり、2番目の引数`set_name`がモデルのインデックス集合の名前である。\n",
    "たとえば、`set_data(data=food_df, set_name= \"FOODS\")`は、データフレーム`food_df`で定義されるパラメータ`cost`\n",
    "のデータとそのインデックス集合`FOODS`を設定している。\n",
    "\n",
    "パラメータ`amount`はデータだけを代入すれば良いので、データフレーム`amt_df`をパラメータインスタンス`m.param[\"amount\"]`に\n",
    "代入するだけで良い。\n"
   ]
  },
  {
   "cell_type": "code",
   "execution_count": 34,
   "id": "137a8f12-b6e9-402b-89c4-e605da5a68c9",
   "metadata": {
    "colab": {
     "base_uri": "https://localhost:8080/"
    },
    "id": "ar1Y96ypHjXi",
    "outputId": "0beb49e9-1704-4bae-d4e8-a078e9efc20f"
   },
   "outputs": [
    {
     "name": "stdout",
     "output_type": "stream",
     "text": [
      "HiGHS 1.10.0: optimal solution; objective 90.0041958\n",
      "2 simplex iterations\n",
      "0 barrier iterations\n",
      "TotalCost= 90.00419580419579\n",
      "buy [*] :=\n",
      "BEEF   0\n",
      " CHK   0\n",
      "FISH   0\n",
      " HAM   0\n",
      " MCH  28.6247\n",
      " MTL  18.042\n",
      " SPG   0\n",
      " TUR   0\n",
      ";\n",
      "\n"
     ]
    }
   ],
   "source": [
    "m = AMPL(env)\n",
    "m.read(\"diet.mod\")\n",
    "\n",
    "m.set_data(data=food_df, set_name= \"FOODS\")\n",
    "m.set_data(nutr_df, \"NUTRIENTS\")\n",
    "m.param[\"amount\"] = amt_df\n",
    "m.option[\"solver\"] = \"highs\"\n",
    "m.solve()\n",
    "\n",
    "print(\"TotalCost=\", m.get_value(\"TotalCost\"))\n",
    "m.display(\"buy\")"
   ]
  },
  {
   "cell_type": "markdown",
   "id": "f9742bc6-94ee-49cd-a9c1-44ea3f22ed5d",
   "metadata": {
    "id": "beizsYAjdBdU"
   },
   "source": [
    "#| hide\n",
    "## 最適潮流問題\n",
    "\n",
    "非線形最適化の例として最適潮流問題を解く。ソルバーはipopt（coinモジュール）である。\n",
    "\n",
    "\n",
    "$$\n",
    "P_i(V, \\delta) = P_i^G - P_i^L, \\forall i \\in N\n",
    "$$\n",
    "\n",
    "$$\n",
    "Q_i(V, \\delta) = Q_i^G - Q_i^L, \\forall i \\in N\n",
    "$$\n",
    "\n",
    "$$\n",
    "P_i(V, \\delta) = V_i \\sum_{k=1}^{N}V_k(G_{ik}\\cos(\\delta_i-\\delta_k) + B_{ik}\\sin(\\delta_i-\\delta_k)), \\forall i \\in N\n",
    "$$\n",
    "\n",
    "$$\n",
    "Q_i(V, \\delta) = V_i \\sum_{k=1}^{N}V_k(G_{ik}\\sin(\\delta_i-\\delta_k) - B_{ik}\\cos(\\delta_i-\\delta_k)), \\forall i \\in N\n",
    "$$"
   ]
  },
  {
   "cell_type": "code",
   "execution_count": null,
   "id": "c75b9dfa-8bd3-4314-aa53-8fa9ff2eef66",
   "metadata": {
    "colab": {
     "base_uri": "https://localhost:8080/"
    },
    "id": "62fMz3Q3H6MR",
    "outputId": "67886077-4b8c-484f-fad2-e11bf6b0ecac"
   },
   "outputs": [
    {
     "name": "stdout",
     "output_type": "stream",
     "text": [
      "Writing pf.mod\n"
     ]
    }
   ],
   "source": [
    "#| hide\n",
    "%%writefile pf.mod\n",
    "# data\n",
    "\n",
    "set N;                              # set of buses in the network\n",
    "param nL;                           # number of branches in the network\n",
    "set L within 1..nL cross N cross N; # set of branches in the network\n",
    "set GEN within N;                   # set of generator buses\n",
    "set REF within N;                   # set of reference (slack) buses\n",
    "set PQ within N;                    # set of load buses\n",
    "set PV within N;                    # set of voltage-controlled buses\n",
    "set YN :=                           # index of the bus admittance matrix\n",
    "    setof {i in N} (i,i) union\n",
    "    setof {(i,k,l) in L} (k,l) union\n",
    "    setof {(i,k,l) in L} (l,k);\n",
    "\n",
    "# bus data\n",
    "\n",
    "param V0     {N}; # initial voltage magnitude\n",
    "param delta0 {N}; # initial voltage angle\n",
    "param PL     {N}; # real power load\n",
    "param QL     {N}; # reactive power load\n",
    "param g_s    {N}; # shunt conductance\n",
    "param b_s    {N}; # shunt susceptance\n",
    "\n",
    "\n",
    "# generator data\n",
    "\n",
    "param PG {GEN}; # real power generation\n",
    "param QG {GEN}; # reactive power generation\n",
    "\n",
    "# branch indexed data\n",
    "\n",
    "param T    {L}; # initial voltage ratio\n",
    "param phi  {L}; # initial phase angle\n",
    "param R    {L}; # branch resistance\n",
    "param X    {L}; # branch reactance\n",
    "param g_sh {L}; # shunt conductance\n",
    "param b_sh {L}; # shunt susceptance\n",
    "\n",
    "param g {(l,k,m) in L} := R[l,k,m]/(R[l,k,m]^2 + X[l,k,m]^2);  # series conductance\n",
    "param b {(l,k,m) in L} := -X[l,k,m]/(R[l,k,m]^2 + X[l,k,m]^2); # series susceptance\n",
    "\n",
    "# bus admittance matrix real part\n",
    "param G {(i,k) in YN} =\n",
    "    if (i == k) then (\n",
    "        g_s[i] +\n",
    "        sum{(l,i,u) in L} (g[l,i,u] + g_sh[l,i,u]/2)/T[l,i,u]**2 +\n",
    "        sum{(l,u,i) in L} (g[l,u,i] + g_sh[l,u,i]/2)\n",
    "    )\n",
    "    else (\n",
    "        -sum{(l,i,k) in L} ((\n",
    "            g[l,i,k]*cos(phi[l,i,k])-b[l,i,k]*sin(phi[l,i,k])\n",
    "        )/T[l,i,k]) -\n",
    "        sum{(l,k,i) in L} ((\n",
    "            g[l,k,i]*cos(phi[l,k,i])+b[l,k,i]*sin(phi[l,k,i])\n",
    "        )/T[l,k,i])\n",
    "    );\n",
    "\n",
    "# bus admittance matrix imaginary part\n",
    "param B {(i,k) in YN} =\n",
    "    if (i == k) then (\n",
    "        b_s[i] +\n",
    "        sum{(l,i,u) in L} (b[l,i,u] + b_sh[l,i,u]/2)/T[l,i,u]**2 +\n",
    "        sum{(l,u,i) in L} (b[l,u,i] + b_sh[l,u,i]/2)\n",
    "    )\n",
    "    else (\n",
    "        -sum{(l,i,k) in L} (\n",
    "            g[l,i,k]*sin(phi[l,i,k])+b[l,i,k]*cos(phi[l,i,k])\n",
    "        )/T[l,i,k] -\n",
    "        sum{(l,k,i) in L} (\n",
    "            -g[l,k,i]*sin(phi[l,k,i])+b[l,k,i]*cos(phi[l,k,i])\n",
    "        )/T[l,k,i]\n",
    "    );\n",
    "\n",
    "# variables\n",
    "var V     {i in N} := V0[i];     # voltage magnitude\n",
    "var delta {i in N} := delta0[i]; # voltage angle\n",
    "\n",
    "# real power injection\n",
    "var P {i in N} =\n",
    "    V[i] * sum{(i,k) in YN} V[k] * (\n",
    "        G[i,k] * cos(delta[i] - delta[k]) +\n",
    "        B[i,k] * sin(delta[i] - delta[k])\n",
    "    );\n",
    "\n",
    "# reactive power injection\n",
    "var Q {i in N} =\n",
    "    V[i] * sum{(i,k) in YN} V[k] * (\n",
    "        G[i,k] * sin(delta[i] - delta[k]) -\n",
    "        B[i,k] * cos(delta[i] - delta[k])\n",
    "    );\n",
    "\n",
    "# constraints\n",
    "\n",
    "s.t. p_flow {i in (PQ union PV)}:\n",
    "    P[i] == (if (i in GEN) then PG[i] else 0) - PL[i];\n",
    "\n",
    "s.t. q_flow {i in PQ}:\n",
    "    Q[i] == (if (i in GEN) then QG[i] else 0) - QL[i];\n",
    "\n",
    "s.t. fixed_angles {i in REF}:\n",
    "    delta[i] == delta0[i];\n",
    "\n",
    "s.t. fixed_voltages {i in (REF union PV)}:\n",
    "    V[i] == V0[i];"
   ]
  },
  {
   "cell_type": "code",
   "execution_count": null,
   "id": "55db1856-5440-4d39-8279-2e8e36f22638",
   "metadata": {
    "colab": {
     "base_uri": "https://localhost:8080/"
    },
    "id": "MTYEfnARcGMn",
    "outputId": "af849d77-47a2-4627-f402-2215fcbea3e5"
   },
   "outputs": [
    {
     "name": "stdout",
     "output_type": "stream",
     "text": [
      "        PL     QL   g_s  b_s   V0  delta0\n",
      "bus                                      \n",
      "1    0.000  0.000  0.00  0.0  1.0     0.0\n",
      "2    0.000  0.000  0.00  0.3  1.0     0.0\n",
      "3    0.000  0.000  0.05  0.0  1.0     0.0\n",
      "4    0.900  0.400  0.00  0.0  1.0     0.0\n",
      "5    0.239  0.129  0.00  0.0  1.0     0.0\n",
      "                 R      X  g_sh  b_sh     T      phi\n",
      "row from to                                         \n",
      "1   1    2   0.000  0.300   0.0  0.00  1.00  0.00000\n",
      "2   1    3   0.023  0.145   0.0  0.04  1.00  0.00000\n",
      "3   2    4   0.006  0.032   0.0  0.01  1.00  0.00000\n",
      "4   3    4   0.020  0.260   0.0  0.00  1.00 -0.05236\n",
      "5   3    5   0.000  0.320   0.0  0.00  0.98  0.00000\n",
      "6   4    5   0.000  0.500   0.0  0.00  1.00  0.00000\n",
      "    PG   QG\n",
      "1  0.0  0.0\n",
      "3  0.0  0.0\n",
      "4  0.0  0.0\n"
     ]
    }
   ],
   "source": [
    "#| hide\n",
    "df_bus = pd.DataFrame(\n",
    "    [\n",
    "        [1, 0.0, 0.0, 0.0, 0.0, 1.0, 1.0],\n",
    "        [2, 0.0, 0.0, 0.0, 0.3, 0.95, 1.05],\n",
    "        [3, 0.0, 0.0, 0.05, 0.0, 0.95, 1.05],\n",
    "        [4, 0.9, 0.4, 0.0, 0.0, 0.95, 1.05],\n",
    "        [5, 0.239, 0.129, 0.0, 0.0, 0.95, 1.05],\n",
    "    ],\n",
    "    columns=[\"bus\", \"PL\", \"QL\", \"g_s\", \"b_s\", \"V_min\", \"V_max\"],\n",
    ").set_index(\"bus\")\n",
    "\n",
    "df_branch = pd.DataFrame(\n",
    "    [\n",
    "        [1, 1, 2, 0.0, 0.3, 0.0, 0.0, 1.0, 0.0],\n",
    "        [2, 1, 3, 0.023, 0.145, 0.0, 0.04, 1.0, 0.0],\n",
    "        [3, 2, 4, 0.006, 0.032, 0.0, 0.01, 1.0, 0.0],\n",
    "        [4, 3, 4, 0.02, 0.26, 0.0, 0.0, 1.0, -3.0],\n",
    "        [5, 3, 5, 0.0, 0.32, 0.0, 0.0, 0.98, 0.0],\n",
    "        [6, 4, 5, 0.0, 0.5, 0.0, 0.0, 1.0, 0.0],\n",
    "    ],\n",
    "    columns=[\"row\", \"from\", \"to\", \"R\", \"X\", \"g_sh\", \"b_sh\", \"T\", \"phi\"],\n",
    ").set_index([\"row\", \"from\", \"to\"])\n",
    "\n",
    "gen = [1, 3, 4]\n",
    "ref = [1]\n",
    "pq = [3, 4]\n",
    "pv = [2, 5]\n",
    "\n",
    "# print(df_bus)\n",
    "# print(df_branch)\n",
    "# data preprocessing\n",
    "\n",
    "ampl_bus = pd.DataFrame()\n",
    "cols = [\"PL\", \"QL\", \"g_s\", \"b_s\"]\n",
    "for col in cols:\n",
    "    ampl_bus.loc[:, col] = df_bus.loc[:, col]\n",
    "ampl_bus[\"V0\"] = 1.0\n",
    "ampl_bus[\"delta0\"] = 0.0\n",
    "\n",
    "ampl_branch = pd.DataFrame()\n",
    "ampl_branch = df_branch.copy()\n",
    "\n",
    "ampl_gen = pd.DataFrame()\n",
    "ampl_gen.index = gen\n",
    "ampl_gen[\"PG\"] = 0.0\n",
    "ampl_gen[\"QG\"] = 0.0\n",
    "\n",
    "from math import radians, degrees\n",
    "\n",
    "# convert degrees to radians\n",
    "ampl_bus[\"delta0\"] = ampl_bus[\"delta0\"].apply(radians)\n",
    "ampl_branch[\"phi\"] = ampl_branch[\"phi\"].apply(radians)\n",
    "\n",
    "print(ampl_bus)\n",
    "print(ampl_branch)\n",
    "print(ampl_gen)\n"
   ]
  },
  {
   "cell_type": "code",
   "execution_count": null,
   "id": "0f6b6e54-da7e-4336-9d9e-4e61d7ea95c3",
   "metadata": {
    "colab": {
     "base_uri": "https://localhost:8080/"
    },
    "id": "daXnz0dfcKI0",
    "outputId": "3fe7bd3e-ec71-4b2e-df7a-634780aefb87"
   },
   "outputs": [
    {
     "name": "stdout",
     "output_type": "stream",
     "text": [
      "Ipopt 3.12.13: \n",
      "\n",
      "******************************************************************************\n",
      "This program contains Ipopt, a library for large-scale nonlinear optimization.\n",
      " Ipopt is released as open source code under the Eclipse Public License (EPL).\n",
      "         For more information visit http://projects.coin-or.org/Ipopt\n",
      "******************************************************************************\n",
      "\n",
      "This is Ipopt version 3.12.13, running with linear solver mumps.\n",
      "NOTE: Other linear solvers might be more efficient (see Ipopt documentation).\n",
      "\n",
      "Number of nonzeros in equality constraint Jacobian...:       30\n",
      "Number of nonzeros in inequality constraint Jacobian.:        0\n",
      "Number of nonzeros in Lagrangian Hessian.............:       18\n",
      "\n",
      "Total number of variables............................:        6\n",
      "                     variables with only lower bounds:        0\n",
      "                variables with lower and upper bounds:        0\n",
      "                     variables with only upper bounds:        0\n",
      "Total number of equality constraints.................:        6\n",
      "Total number of inequality constraints...............:        0\n",
      "        inequality constraints with only lower bounds:        0\n",
      "   inequality constraints with lower and upper bounds:        0\n",
      "        inequality constraints with only upper bounds:        0\n",
      "\n",
      "iter    objective    inf_pr   inf_du lg(mu)  ||d||  lg(rg) alpha_du alpha_pr  ls\n",
      "   0  0.0000000e+00 7.00e-01 0.00e+00  -1.0 0.00e+00    -  0.00e+00 0.00e+00   0\n",
      "   1  0.0000000e+00 4.87e-02 0.00e+00  -1.7 1.71e-01    -  1.00e+00 1.00e+00h  1\n",
      "   2  0.0000000e+00 2.17e-04 0.00e+00  -2.5 4.08e-03    -  1.00e+00 1.00e+00h  1\n",
      "   3  0.0000000e+00 4.11e-09 0.00e+00  -5.7 1.76e-05    -  1.00e+00 1.00e+00h  1\n",
      "\n",
      "Number of Iterations....: 3\n",
      "\n",
      "                                   (scaled)                 (unscaled)\n",
      "Objective...............:   0.0000000000000000e+00    0.0000000000000000e+00\n",
      "Dual infeasibility......:   0.0000000000000000e+00    0.0000000000000000e+00\n",
      "Constraint violation....:   4.1074473979318246e-09    4.1074473979318246e-09\n",
      "Complementarity.........:   0.0000000000000000e+00    0.0000000000000000e+00\n",
      "Overall NLP error.......:   4.1074473979318246e-09    4.1074473979318246e-09\n",
      "\n",
      "\n",
      "Number of objective function evaluations             = 4\n",
      "Number of objective gradient evaluations             = 4\n",
      "Number of equality constraint evaluations            = 4\n",
      "Number of inequality constraint evaluations          = 0\n",
      "Number of equality constraint Jacobian evaluations   = 4\n",
      "Number of inequality constraint Jacobian evaluations = 0\n",
      "Number of Lagrangian Hessian evaluations             = 3\n",
      "Total CPU secs in IPOPT (w/o function evaluations)   =      0.004\n",
      "Total CPU secs in NLP function evaluations           =      0.000\n",
      "\n",
      "EXIT: Optimal Solution Found.\n",
      "\b\b\b\b\b\b\b\b\b\b\b\b\b\b\b \n",
      "Ipopt 3.12.13: Optimal Solution Found\n",
      "\n",
      "suffix ipopt_zU_out OUT;\n",
      "suffix ipopt_zL_out OUT;\n",
      "solver status: solved\n",
      "          V     delta\n",
      "1  1.000000  0.000000\n",
      "2  1.000000 -8.657929\n",
      "3  0.981536 -5.893046\n",
      "4  0.983056 -9.440548\n",
      "5  1.000000 -9.950946\n"
     ]
    }
   ],
   "source": [
    "#| hide\n",
    "def pf_run(bus, branch, gen, ref, pq, pv):\n",
    "    # initialyze AMPL and read the model\n",
    "    ampl = AMPL(env)\n",
    "    ampl.read(\"pf.mod\")\n",
    "\n",
    "    # load the data\n",
    "    ampl.set_data(bus, \"N\")\n",
    "    ampl.param[\"nL\"] = branch.shape[0]\n",
    "    ampl.set_data(branch, \"L\")\n",
    "    ampl.set_data(gen, \"GEN\")\n",
    "    ampl.set[\"REF\"] = ref\n",
    "    ampl.set[\"PQ\"] = pq\n",
    "    ampl.set[\"PV\"] = pv\n",
    "\n",
    "    ampl.solve(solver=\"ipopt\")\n",
    "\n",
    "    solve_result = ampl.get_value(\"solve_result\")\n",
    "    if solve_result != \"solved\":\n",
    "        print(\"WARNING: solver exited with %s status.\" % (solve_result,))\n",
    "\n",
    "    return ampl.get_data(\"V\", \"delta\").to_pandas(), solve_result\n",
    "\n",
    "\n",
    "df_res, solver_status = pf_run(ampl_bus, ampl_branch, ampl_gen, ref, pq, pv)\n",
    "\n",
    "# convert radians back to degrees\n",
    "df_res[\"delta\"] = df_res[\"delta\"].apply(degrees)\n",
    "\n",
    "# print results\n",
    "print(\"solver status:\", solver_status)\n",
    "print(df_res)"
   ]
  },
  {
   "cell_type": "code",
   "execution_count": null,
   "id": "1fcbffe1-170c-4ccb-aa45-fa768cc1a705",
   "metadata": {},
   "outputs": [],
   "source": []
  }
 ],
 "metadata": {
  "kernelspec": {
   "display_name": "Python 3 (ipykernel)",
   "language": "python",
   "name": "python3"
  },
  "language_info": {
   "codemirror_mode": {
    "name": "ipython",
    "version": 3
   },
   "file_extension": ".py",
   "mimetype": "text/x-python",
   "name": "python",
   "nbconvert_exporter": "python",
   "pygments_lexer": "ipython3",
   "version": "3.13.2"
  }
 },
 "nbformat": 4,
 "nbformat_minor": 5
}
