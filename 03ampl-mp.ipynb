{
 "cells": [
  {
   "cell_type": "markdown",
   "metadata": {},
   "source": [
    "# MPライブラリ\n",
    "\n",
    "> MPライブラリの使用法\n"
   ]
  },
  {
   "cell_type": "markdown",
   "metadata": {},
   "source": [
    "[![](https://colab.research.google.com/assets/colab-badge.svg)](https://colab.research.google.com/github/scmopt/moai-manual/blob/main/optseq-trial.ipynb)\n"
   ]
  },
  {
   "cell_type": "markdown",
   "metadata": {
    "id": "kknY4yKEfjcP"
   },
   "source": [
    "## Google Colab.で使う場合\n",
    "\n",
    "ampl_notebook関数で、使うソルバー(modules)とlicense_uuidを設定する（空白でも動く）。"
   ]
  },
  {
   "cell_type": "code",
   "execution_count": 1,
   "metadata": {
    "colab": {
     "base_uri": "https://localhost:8080/"
    },
    "id": "HWE7PFzOw_IF",
    "outputId": "3c4f731d-db71-40d2-b030-f2182fe08bf2"
   },
   "outputs": [],
   "source": [
    "!pip install amplpy\n",
    "from amplpy import ampl_notebook\n",
    "ampl = ampl_notebook(\n",
    "    modules=[\"highs\",\"gurobi\",\"cbc\",\"scip\",\"coin\"]\n",
    "            #coin includes ipopt, couenne, bonmin\n",
    "    license_uuid=None)"
   ]
  },
  {
   "cell_type": "markdown",
   "metadata": {
    "id": "vW9u21szSdWJ"
   },
   "source": [
    "## ローカルで amplpyを動かす方法\n",
    "\n",
    "AMPLをインストールしてampl.exeがある場所をEnvironmentで指定する。\n"
   ]
  },
  {
   "cell_type": "code",
   "execution_count": 2,
   "metadata": {},
   "outputs": [],
   "source": [
    "from amplpy import AMPL, Environment, tools\n",
    "ampl = AMPL(Environment(\"/Users/mikiokubo/Documents/ampl/\"))"
   ]
  },
  {
   "cell_type": "markdown",
   "metadata": {},
   "source": [
    "## マジックコマンド ampl_eval\n",
    "\n",
    "マジックコマンド`%%ampl_eval`をセルの先頭に入れると、そのままAMPLのモデルとコマンドが記述できる。\n"
   ]
  },
  {
   "cell_type": "code",
   "execution_count": 44,
   "metadata": {
    "colab": {
     "base_uri": "https://localhost:8080/"
    },
    "editable": true,
    "id": "2O42qVUYx8TS",
    "outputId": "ad840eac-f773-4bfc-f1d0-babd5d5a2bbb",
    "slideshow": {
     "slide_type": ""
    },
    "tags": []
   },
   "outputs": [
    {
     "name": "stdout",
     "output_type": "stream",
     "text": [
      "Gurobi 12.0.1: optimal solution; objective 19\n",
      "0 simplex iterations\n",
      "x1 = 1\n",
      "x2 = 8\n",
      "Z = 19\n",
      "\n"
     ]
    }
   ],
   "source": [
    "%%ampl_eval\n",
    "#%%ampl_eval\n",
    "reset;\n",
    "var x1 integer, >= 0;\n",
    "var x2 integer,  >= 0;\n",
    "maximize Z: 3*x1 + 2*x2;\n",
    "subject to Constraint1: 2*x1 + x2 <= 10;\n",
    "subject to Constraint2: x1==1 or x2 ==5;\n",
    "option solver gurobi;\n",
    "solve;\n",
    "\n",
    "display x1,x2,Z;"
   ]
  },
  {
   "cell_type": "markdown",
   "metadata": {},
   "source": [
    "記述したamplモデルは、Pythonのamplインスタンス（グローバル変数）`ampl` に保管される。\n",
    "\n",
    "たとえば、`eval`メソッドで、amplの`show;`コマンドを渡すと、モデルの概要が表示される。\n"
   ]
  },
  {
   "cell_type": "code",
   "execution_count": 4,
   "metadata": {},
   "outputs": [
    {
     "name": "stdout",
     "output_type": "stream",
     "text": [
      "\n",
      "variables:   x1   x2\n",
      "\n",
      "constraint:   Constraint1\n",
      "\n",
      "logical constraint:   Constraint2\n",
      "\n",
      "objective:   Z\n"
     ]
    }
   ],
   "source": [
    "ampl.eval(\"show;\")"
   ]
  },
  {
   "cell_type": "markdown",
   "metadata": {
    "id": "B_eum-7zxxdR"
   },
   "source": [
    "## MPサポート\n",
    "\n",
    "拡張されたMPソルバーインターフェースライブラリは、以下の演算子および式カテゴリーに対する新たなサポートを提供する。\n",
    "\n",
    "対応しているソルバーは以下の通り。\n",
    "\n",
    "- gurobi\n",
    "\n",
    "- cplex\n",
    "\n",
    "- copt\n",
    "\n",
    "- xpress\n",
    "\n",
    "- mosek\n",
    "\n",
    "- highs\n",
    "\n",
    "- cbc\n",
    "\n",
    "- scip\n",
    "\n",
    "- gcg\n",
    "\n",
    "MPインターフェイスによって、ソルバーが対応していない場合には、以下を自動的に再定式化する。\n",
    "\n",
    "- 条件演算子: `if-then-else`, `==>`, `<==`, `<==>`\n",
    "\n",
    "- 論理演算子: `or`, `and`, `not`, `exists`, `forall`\n",
    "\n",
    "- 区分的線形関数: `abs`, `min`, `max`, `<<breakpoints; slopes>>`\n",
    "\n",
    "- 計数演算子: `count`, `atmost`, `atleast`, `exactly`, `numberof`\n",
    "\n",
    "- 関係演算子および比較演算子: `>(=)`, `<(=)`, `!=`, `alldiff`\n",
    "\n",
    "- 相補性演算子: `complements`\n",
    "\n",
    "- 非線形演算子および関数: `*`, `/`, `^`, `exp`, `log`, `sin`, `cos`, `tan`, `sinh`, `cosh`, `tanh`\n",
    "\n",
    "- 集合所属演算子: `in`\n"
   ]
  },
  {
   "cell_type": "markdown",
   "metadata": {
    "id": "ByJtLrvOx66q"
   },
   "source": [
    "## 離接制約 or\n",
    "\n",
    "以下の例では、何れかが正であることを、変数 $x$ と $y$ のどちらかが $0$ 以下である条件として `or` を用いて記述している。\n",
    "\n",
    "式の内部表現は `solexpand` コマンドでみることができる。以下では、セルの先頭のマジックコマンド`%%ampl_eval`は省略して記述する。\n"
   ]
  },
  {
   "cell_type": "code",
   "execution_count": 42,
   "metadata": {
    "colab": {
     "base_uri": "https://localhost:8080/"
    },
    "id": "XseFp80Dx7S6",
    "outputId": "9dab7874-bcf7-4a04-9c86-fdc78ab82366"
   },
   "outputs": [
    {
     "name": "stdout",
     "output_type": "stream",
     "text": [
      "HiGHS 1.10.0: optimal solution; objective 5000\n",
      "0 simplex iterations\n",
      "0 branching nodes\n",
      "x = 1000\n",
      "y = 0\n",
      "\n",
      "subject to only_one_positive:\n",
      "\tx <= 0 || y <= 0;\n",
      "\n"
     ]
    }
   ],
   "source": [
    "%%ampl_eval\n",
    "reset;\n",
    "var x >= -1000, <= 1000;\n",
    "var y >= -1000, <= 1000;\n",
    "maximize total: 5 * x + 2 * y;\n",
    "s.t. only_one_positive: x <= 0 or y <= 0;\n",
    "\n",
    "option solver highs;\n",
    "solve;\n",
    "display x,y;\n",
    "\n",
    "solexpand only_one_positive;"
   ]
  },
  {
   "cell_type": "markdown",
   "metadata": {},
   "source": [
    "制約`only_one_positive`を図示すると以下のようになる。"
   ]
  },
  {
   "cell_type": "code",
   "execution_count": 32,
   "metadata": {},
   "outputs": [
    {
     "data": {
      "image/png": "[encoded data removed]",
      "text/plain": [
       "<Figure size 700x700 with 1 Axes>"
      ]
     },
     "metadata": {},
     "output_type": "display_data"
    }
   ],
   "source": [
    "#|echo: false\n",
    "import matplotlib.pyplot as plt\n",
    "import numpy as np\n",
    "\n",
    "# 1. FigureとAxesの準備\n",
    "fig, ax = plt.subplots(figsize=(7, 7)) # 図のサイズを適宜調整\n",
    "\n",
    "# 2. 描画範囲の設定\n",
    "x_min, x_max = -1000, 1000\n",
    "y_min, y_max = -1000, 1000\n",
    "ax.set_xlim(x_min, x_max)\n",
    "ax.set_ylim(y_min, y_max)\n",
    "\n",
    "# 3. アスペクト比を1:1に設定\n",
    "ax.set_aspect('equal', adjustable='box')\n",
    "\n",
    "# 4. 軸を原点で交差させる\n",
    "ax.spines['left'].set_position('zero')   # y軸をx=0の位置に移動\n",
    "ax.spines['bottom'].set_position('zero') # x軸をy=0の位置に移動\n",
    "ax.spines['right'].set_color('none')     # 右側の枠線を非表示\n",
    "ax.spines['top'].set_color('none')       # 上側の枠線を非表示\n",
    "\n",
    "# 5. 軸ラベルの設定 (x, y ラベルは残します。不要であればこの部分を削除またはコメントアウトしてください)\n",
    "ax.set_xlabel('x', loc='right', fontsize=12)\n",
    "ax.set_ylabel('y', loc='top', rotation=0, fontsize=12)\n",
    "\n",
    "# 6. 塗りつぶしの設定\n",
    "fill_color = 'lightgray'  # 塗りつぶしの色\n",
    "alpha = 0.5               # 透明度\n",
    "zorder_fill = 0           # 塗りつぶしレイヤーの深さ\n",
    "\n",
    "#   - x軸より下側全体 (第3象限と第4象限) を塗りつぶす\n",
    "x_coords_for_neg_y_fill = np.array([x_min, x_max])\n",
    "ax.fill_between(x_coords_for_neg_y_fill, y_min, 0,\n",
    "                color=fill_color, alpha=alpha, zorder=zorder_fill)\n",
    "\n",
    "#   - y軸より左側で、かつx軸より上側 (第2象限) を塗りつぶす\n",
    "y_coords_for_q2_fill = np.array([0, y_max])\n",
    "ax.fill_betweenx(y_coords_for_q2_fill, x_min, 0,\n",
    "                 color=fill_color, alpha=alpha, zorder=zorder_fill)\n",
    "\n",
    "# 7. グリッド線を非表示にする (★変更点★)\n",
    "ax.grid(False)\n",
    "\n",
    "# 8. タイトルはなし\n",
    "\n",
    "# 9. 目盛りと目盛り数値を非表示にする (★変更点★)\n",
    "ax.set_xticks([]) # x軸の目盛りと数値を非表示\n",
    "ax.set_yticks([]) # y軸の目盛りと数値を非表示\n",
    "\n",
    "# 10. プロットの表示\n",
    "plt.show()"
   ]
  },
  {
   "cell_type": "markdown",
   "metadata": {
    "id": "oLEcUwgD6UJK"
   },
   "source": [
    "## if then   ==>\n",
    "\n",
    "以下の例では、 何れかが正であることを、もし $x$ が正なら $y$ は $0$ 以下であることを `==>` を用いて定義している。\n",
    "\n",
    " `solexpand` で内部表現をみると、`!(x > 0) || y <= 0` であることが分かる。"
   ]
  },
  {
   "cell_type": "code",
   "execution_count": null,
   "metadata": {
    "colab": {
     "base_uri": "https://localhost:8080/"
    },
    "id": "oHhHQCLF6UUK",
    "outputId": "1ced8ca2-21a2-4e59-ed9c-5e66cdc130f9"
   },
   "outputs": [
    {
     "name": "stdout",
     "output_type": "stream",
     "text": [
      "HiGHS 1.10.0: \b\b\b\b\b\b\b\b\b\b\b\b\b\bHiGHS 1.10.0: optimal solution; objective 5000\n",
      "0 simplex iterations\n",
      "0 branching nodes\n",
      "x = 1000\n",
      "y = 0\n",
      "\n",
      "subject to only_one_positive:\n",
      "\t!(x > 0) || y <= 0;\n",
      "\n"
     ]
    }
   ],
   "source": [
    "%%ampl_eval\n",
    "reset;\n",
    "var x >= -1000, <= 1000;\n",
    "var y >= -1000, <= 1000;\n",
    "maximize total: 5 * x + 2 * y;\n",
    "s.t. only_one_positive: x > 0 ==> y <= 0;\n",
    "\n",
    "option solver highs;\n",
    "solve;\n",
    "display x,y;\n",
    "\n",
    "solexpand only_one_positive;"
   ]
  },
  {
   "cell_type": "markdown",
   "metadata": {
    "id": "94oZDipM2k5i"
   },
   "source": [
    "## if and only if  <==>\n",
    "\n",
    "以下の例では、 $x$ と $y$ のうちの「ちょうど」1つが正であることを、$x>0$ の必要十分条件が $y \\leq 0$ であると表現し、`<==>` を用いて記述している。"
   ]
  },
  {
   "cell_type": "code",
   "execution_count": 24,
   "metadata": {
    "colab": {
     "base_uri": "https://localhost:8080/"
    },
    "id": "9c_dQ-Yh2lDe",
    "outputId": "6a1f1aaf-c17d-4c8a-d640-1b2beb315b16"
   },
   "outputs": [
    {
     "name": "stdout",
     "output_type": "stream",
     "text": [
      "HiGHS 1.10.0: optimal solution; objective -4999.9998\n",
      "0 simplex iterations\n",
      "0 branching nodes\n",
      "x = -1000\n",
      "y = 0.0001\n",
      "\n",
      "subject to exactly_one_positive:\n",
      "\tx > 0 <==> y <= 0;\n",
      "\n"
     ]
    }
   ],
   "source": [
    "%%ampl_eval\n",
    "reset;\n",
    "var x >= -1000, <= 1000;\n",
    "var y >= -1000, <= 1000;\n",
    "minimize total: 5 * x + 2 * y;\n",
    "s.t. exactly_one_positive: x > 0 <==> y <= 0;\n",
    "\n",
    "option solver highs;\n",
    "solve;\n",
    "display x,y;\n",
    "\n",
    "solexpand exactly_one_positive;"
   ]
  },
  {
   "cell_type": "markdown",
   "metadata": {},
   "source": [
    "制約`exactly_one_positive`を図示すると以下のようになる。"
   ]
  },
  {
   "cell_type": "code",
   "execution_count": 13,
   "metadata": {},
   "outputs": [
    {
     "data": {
      "image/png": "[encoded data removed]",
      "text/plain": [
       "<Figure size 700x700 with 1 Axes>"
      ]
     },
     "metadata": {},
     "output_type": "display_data"
    }
   ],
   "source": [
    "#|echo: false\n",
    "import matplotlib.pyplot as plt\n",
    "import numpy as np\n",
    "\n",
    "# 1. FigureとAxesの準備\n",
    "fig, ax = plt.subplots(figsize=(7, 7)) # 図のサイズを適宜調整\n",
    "\n",
    "# 2. 描画範囲の設定\n",
    "x_min, x_max = -1000, 1000\n",
    "y_min, y_max = -1000, 1000\n",
    "ax.set_xlim(x_min, x_max)\n",
    "ax.set_ylim(y_min, y_max)\n",
    "\n",
    "# 3. アスペクト比を1:1に設定\n",
    "ax.set_aspect('equal', adjustable='box')\n",
    "\n",
    "# 4. 軸を原点で交差させる\n",
    "ax.spines['left'].set_position('zero')   # y軸をx=0の位置に移動\n",
    "ax.spines['bottom'].set_position('zero') # x軸をy=0の位置に移動\n",
    "ax.spines['right'].set_color('none')     # 右側の枠線を非表示\n",
    "ax.spines['top'].set_color('none')       # 上側の枠線を非表示\n",
    "\n",
    "# 5. 軸ラベルの設定 (x, y ラベルは残します)\n",
    "ax.set_xlabel('x', loc='right', fontsize=12)\n",
    "ax.set_ylabel('y', loc='top', rotation=0, fontsize=12)\n",
    "\n",
    "# 6. 塗りつぶしの設定\n",
    "fill_color = 'lightgray'  # 塗りつぶしの色\n",
    "alpha = 0.5               # 透明度\n",
    "zorder_fill = 0           # 塗りつぶしレイヤーの深さ\n",
    "\n",
    "# --- 塗りつぶしロジックの変更 ---\n",
    "# 6.1. 第2象限 (x < 0, y > 0) を塗りつぶす\n",
    "#      y座標の範囲 (0からy_maxまで)\n",
    "y_coords_for_q2_fill = np.array([0, y_max])\n",
    "#      上記y座標の範囲で、x_minから0までの領域を塗りつぶす\n",
    "ax.fill_betweenx(y_coords_for_q2_fill, x_min, 0,\n",
    "                 color=fill_color, alpha=alpha, zorder=zorder_fill)\n",
    "\n",
    "# 6.2. 第4象限 (x > 0, y < 0) を塗りつぶす\n",
    "#      x座標の範囲 (0からx_maxまで)\n",
    "x_coords_for_q4_fill = np.array([0, x_max])\n",
    "#      上記x座標の範囲で、y_minから0までの領域を塗りつぶす\n",
    "ax.fill_between(x_coords_for_q4_fill, y_min, 0,\n",
    "                color=fill_color, alpha=alpha, zorder=zorder_fill)\n",
    "# --- ここまで ---\n",
    "\n",
    "# 7. グリッド線を非表示にする\n",
    "ax.grid(False)\n",
    "\n",
    "# 8. タイトルはなし\n",
    "\n",
    "# 9. 目盛りと目盛り数値を非表示にする\n",
    "ax.set_xticks([]) # x軸の目盛りと数値を非表示\n",
    "ax.set_yticks([]) # y軸の目盛りと数値を非表示\n",
    "\n",
    "# 10. プロットの表示\n",
    "plt.show()"
   ]
  },
  {
   "cell_type": "markdown",
   "metadata": {
    "id": "0qtBJ5Oa71ox"
   },
   "source": [
    "## 選言標準形 \n",
    "\n",
    "選言標準形 (disjunctive normal form) は、論理式を特定の形式で表現する方法の1つで、\n",
    "簡単に言うと、「いくつかの（`and`で結ばれたグループ）が、`or`で結ばれた形」 である。\n",
    "\n",
    "以下の例では、$x$ か $y$ のいずれかが正で、正の場合には$3$以上であることを選言標準形を用いて表現している。"
   ]
  },
  {
   "cell_type": "code",
   "execution_count": 11,
   "metadata": {
    "colab": {
     "base_uri": "https://localhost:8080/"
    },
    "id": "JzKp4Jgd71yY",
    "outputId": "b54c031a-6e48-4c5e-b532-d0802b762d47"
   },
   "outputs": [
    {
     "name": "stdout",
     "output_type": "stream",
     "text": [
      "HiGHS 1.10.0: optimal solution; objective -44\n",
      "0 simplex iterations\n",
      "0 branching nodes\n",
      "x = -10\n",
      "y = 3\n",
      "\n",
      "subject to exactly_one_positive_with_gap:\n",
      "\tx <= 0 && y >= 3 || x >= 3 && y <= 0;\n",
      "\n"
     ]
    }
   ],
   "source": [
    "%%ampl_eval\n",
    "reset;\n",
    "\n",
    "var x >= -10, <= 10;\n",
    "var y >= -10, <= 10;\n",
    "minimize total: 5 * x + 2 * y;\n",
    "s.t. exactly_one_positive_with_gap:\n",
    "    (x <= 0 and y >= 3) or (x >= 3 and y <= 0);\n",
    "\n",
    "option solver highs;\n",
    "solve;\n",
    "display x,y;\n",
    "\n",
    "solexpand exactly_one_positive_with_gap;"
   ]
  },
  {
   "cell_type": "markdown",
   "metadata": {},
   "source": [
    "この制約を図示すると以下のようになる。"
   ]
  },
  {
   "cell_type": "code",
   "execution_count": 16,
   "metadata": {},
   "outputs": [
    {
     "data": {
      "image/png": "[encoded data removed]",
      "text/plain": [
       "<Figure size 700x700 with 1 Axes>"
      ]
     },
     "metadata": {},
     "output_type": "display_data"
    }
   ],
   "source": [
    "#|echo: false\n",
    "import matplotlib.pyplot as plt\n",
    "import numpy as np\n",
    "\n",
    "# 1. FigureとAxesの準備\n",
    "fig, ax = plt.subplots(figsize=(7, 7)) # 図のサイズを適宜調整\n",
    "\n",
    "# 2. 描画範囲の設定\n",
    "x_min, x_max = -10, 10\n",
    "y_min, y_max = -10, 10\n",
    "ax.set_xlim(x_min, x_max)\n",
    "ax.set_ylim(y_min, y_max)\n",
    "\n",
    "# 3. アスペクト比を1:1に設定\n",
    "ax.set_aspect('equal', adjustable='box')\n",
    "\n",
    "# 4. 軸を原点で交差させる\n",
    "ax.spines['left'].set_position('zero')   # y軸をx=0の位置に移動\n",
    "ax.spines['bottom'].set_position('zero') # x軸をy=0の位置に移動\n",
    "ax.spines['right'].set_color('none')     # 右側の枠線を非表示\n",
    "ax.spines['top'].set_color('none')       # 上側の枠線を非表示\n",
    "\n",
    "# 5. 軸ラベルの設定 (x, y ラベルは残します)\n",
    "ax.set_xlabel('x', loc='right', fontsize=12)\n",
    "ax.set_ylabel('y', loc='top', rotation=0, fontsize=12)\n",
    "\n",
    "# 6. 塗りつぶしの設定\n",
    "fill_color = 'lightgray'  # 塗りつぶしの色\n",
    "alpha = 0.5               # 透明度\n",
    "zorder_fill = 0           # 塗りつぶしレイヤーの深さ\n",
    "\n",
    "# --- 塗りつぶしロジック ---\n",
    "# 6.1. 領域A (x <= 0 かつ y >= 3) を塗りつぶす\n",
    "#      y座標の範囲 ([3, y_max])\n",
    "#      このyの範囲で、xの範囲 ([x_min, 0]) を塗りつぶす\n",
    "#      y=3 が y_min より大きく、y_max より小さいことを確認 (この場合は明らか)\n",
    "y_region_A = np.array([3, y_max]) # yは3からy_maxまで\n",
    "ax.fill_betweenx(y_region_A, x_min, 0, # xはx_minから0まで\n",
    "                 where=(y_region_A >= 3), # y>=3の条件はy_region_Aの定義でカバーされるが明示\n",
    "                 color=fill_color, alpha=alpha, zorder=zorder_fill,\n",
    "                 interpolate=True) # interpolate=Trueで境界を滑らかに（特にwhereを使う場合）\n",
    "\n",
    "# 6.2. 領域B (x >= 3 かつ y <= 0) を塗りつぶす\n",
    "#      x座標の範囲 ([3, x_max])\n",
    "#      このxの範囲で、yの範囲 ([y_min, 0]) を塗りつぶす\n",
    "#      x=3 が x_min より大きく、x_max より小さいことを確認 (この場合は明らか)\n",
    "x_region_B = np.array([3, x_max]) # xは3からx_maxまで\n",
    "ax.fill_between(x_region_B, y_min, 0, # yはy_minから0まで\n",
    "                where=(x_region_B >= 3), # x>=3の条件はx_region_Bの定義でカバーされるが明示\n",
    "                color=fill_color, alpha=alpha, zorder=zorder_fill,\n",
    "                interpolate=True)\n",
    "# --- ここまで ---\n",
    "\n",
    "# 7. グリッド線を非表示にする\n",
    "ax.grid(False)\n",
    "\n",
    "# 8. タイトルはなし\n",
    "\n",
    "# 9. 目盛りと目盛り数値を非表示にする\n",
    "ax.set_xticks([]) # x軸の目盛りと数値を非表示\n",
    "ax.set_yticks([]) # y軸の目盛りと数値を非表示\n",
    "\n",
    "# 10. プロットの表示\n",
    "plt.show()"
   ]
  },
  {
   "cell_type": "markdown",
   "metadata": {
    "id": "b_4V_yFfHYlY"
   },
   "source": [
    "## 全相異制約  alldiff\n",
    "\n",
    "8-クイーン問題を例として全相異制約 `alldiff`を説明する。\n",
    "`alldiff` は引数で与えられる変数がすべて異なる値をとることを表す。\n",
    "\n",
    "8-クイーン問題では、チェス盤にクイーンの駒（縦横斜めに動ける；将棋の飛車と角の動き）を互いに取り合わないように配置する。\n",
    "\n",
    "各列に置くクイーンの行番号を表す変数 `Row` が、全て異なり (`row_attacks`)、`Row[j]+j`が全て異なり(`diag_attacks`)、\n",
    "`Row[j]-j`が全て異なる(`rdiag_attacks`)ことで、クイーンが互いに取り合わないことを規定できる。\n"
   ]
  },
  {
   "cell_type": "code",
   "execution_count": 24,
   "metadata": {},
   "outputs": [
    {
     "data": {
      "image/png": "[encoded data removed]",
      "text/plain": [
       "<Figure size 600x600 with 1 Axes>"
      ]
     },
     "metadata": {},
     "output_type": "display_data"
    }
   ],
   "source": [
    "#|echo: false\n",
    "import matplotlib.pyplot as plt\n",
    "import matplotlib.patches as patches\n",
    "import numpy as np\n",
    "\n",
    "# N-Queens problem for N=4\n",
    "N = 4\n",
    "\n",
    "# N=4 のクイーン問題の解の一つ (タプルは (列インデックス, 行インデックス)、0-indexed)\n",
    "# 例: (2,0) は c列 (インデックス2)、1行 (インデックス0) を意味します。\n",
    "# この解は queen_positions = [(c1), (a2), (d3), (b4)] に対応します。\n",
    "queen_positions = [(2, 0), (0, 1), (3, 2), (1, 3)]\n",
    "# 別の有効な解の例: [(1, 0), (3, 1), (0, 2), (2, 3)] # b1, d2, a3, c4\n",
    "\n",
    "fig, ax = plt.subplots(1, figsize=(6, 6))\n",
    "ax.set_aspect('equal') # 正方形のマスを正しく表示\n",
    "\n",
    "# 1. チェス盤のマスを描画\n",
    "color_light_square = 'white'\n",
    "color_dark_square = 'lightgray'\n",
    "# よりチェス盤らしい色の例:\n",
    "# color_light_square = '#F0D9B5' # 明るいマス\n",
    "# color_dark_square = '#B58863'  # 暗いマス\n",
    "\n",
    "for r_idx in range(N):  # 行インデックス (0 から N-1)\n",
    "    for c_idx in range(N):  # 列インデックス (0 から N-1)\n",
    "        # マスの色を決定\n",
    "        if (r_idx + c_idx) % 2 == 0:\n",
    "            color = color_light_square\n",
    "        else:\n",
    "            color = color_dark_square\n",
    "        \n",
    "        # 正方形のパッチを作成\n",
    "        # patches.Rectangle((左下のx座標, 左下のy座標), 幅, 高さ, ...)\n",
    "        rect = patches.Rectangle(\n",
    "            (c_idx, r_idx),  # マスの左下の角の座標\n",
    "            1, 1,            # マスの幅と高さ\n",
    "            linewidth=1,\n",
    "            edgecolor='black', # マスの枠線の色\n",
    "            facecolor=color    # マスの塗りつぶし色\n",
    "        )\n",
    "        ax.add_patch(rect)\n",
    "\n",
    "# 2. クイーンを配置\n",
    "queen_symbol = \"♕\"  # U+2655 白いクイーンのシンボル (Unicode)\n",
    "# queen_symbol = \"♛\"  # U+265B 黒いクイーンのシンボル (Unicode)\n",
    "queen_fontsize = 30 # クイーンのシンボルのフォントサイズ (適宜調整)\n",
    "queen_color = 'darkred'    # クイーンの色 (白黒両方のマスで見やすい色)\n",
    "\n",
    "# クイーンのシンボル表示に使用するフォントの候補\n",
    "# 環境にインストールされているフォントを指定してください。\n",
    "# 一般的なフォント: 'DejaVu Sans', 'Arial Unicode MS', 'Segoe UI Symbol', 'Apple Symbols'\n",
    "# 指定しない場合、matplotlibのデフォルトフォントが使用されます。\n",
    "font_for_symbol = 'DejaVu Sans' \n",
    "\n",
    "for c_idx, r_idx in queen_positions:\n",
    "    # マスの中心座標 (x, y)\n",
    "    x_center = c_idx + 0.5\n",
    "    y_center = r_idx + 0.5\n",
    "    \n",
    "    # クイーンのシンボルをテキストとして描画\n",
    "    # 注意: ご使用の環境やフォントによっては、クイーンのシンボル(♕)が正しく表示されない場合があります。\n",
    "    # その場合は、fontname引数で使用可能なフォントを指定するか、\n",
    "    # ax.scatter() を使ってマーカー（例: 'o'）でクイーンを表すことを検討してください。\n",
    "    ax.text(x_center, y_center, queen_symbol,\n",
    "            fontsize=queen_fontsize,\n",
    "            ha='center',  # 水平方向中央揃え\n",
    "            va='center',  # 垂直方向中央揃え\n",
    "            color=queen_color,\n",
    "            fontname=font_for_symbol) # 指定フォントを使用 (なければmatplotlibがフォールバック試行)\n",
    "\n",
    "# 3. プロットの範囲とラベルを設定\n",
    "ax.set_xlim(0, N)\n",
    "ax.set_ylim(0, N)\n",
    "\n",
    "# 目盛りを各マスの中央に設定\n",
    "ax.set_xticks(np.arange(0.5, N, 1))\n",
    "ax.set_yticks(np.arange(0.5, N, 1))\n",
    "\n",
    "ax.set_xticklabels([str(i + 1) for i in range(N)])\n",
    "ax.set_yticklabels([str(i + 1) for i in range(N)]) # 行番号は下から1, 2, ...\n",
    "\n",
    "# 目盛り線自体は非表示にする (ラベルは残る)\n",
    "ax.tick_params(axis='both', which='both', length=0)\n",
    "\n",
    "#plt.title(f\"{N}x{N} Queens Problem Solution\")\n",
    "plt.show()"
   ]
  },
  {
   "cell_type": "code",
   "execution_count": 29,
   "metadata": {
    "colab": {
     "base_uri": "https://localhost:8080/"
    },
    "id": "Ej3y0nXcA0PA",
    "outputId": "5428c776-1ccb-4f72-da2c-ae5ee43aa3f9"
   },
   "outputs": [
    {
     "name": "stdout",
     "output_type": "stream",
     "text": [
      "Gurobi 12.0.1: optimal solution\n",
      "282 simplex iterations\n",
      "1 branching node\n",
      "Objective = find a feasible point.\n",
      "Row [*] :=\n",
      "1  7\n",
      "2  3\n",
      "3  8\n",
      "4  2\n",
      "5  5\n",
      "6  1\n",
      "7  6\n",
      "8  4\n",
      ";\n",
      "\n",
      "subject to row_attacks:\n",
      "\talldiff(Row[1], Row[2], Row[3], Row[4], Row[5], Row[6], Row[7], Row[8]);\n",
      "\n"
     ]
    }
   ],
   "source": [
    "%%ampl_eval\n",
    "reset;\n",
    "param n integer > 0;             \n",
    "var Row {1..n} integer, >= 1, <= n;\n",
    "s.t. row_attacks: alldiff ({j in 1..n} Row[j]);\n",
    "s.t. diag_attacks: alldiff ({j in 1..n} Row[j]+j);\n",
    "s.t. rdiag_attacks: alldiff ({j in 1..n} Row[j]-j);\n",
    "\n",
    "let n := 8;\n",
    "option solver gurobi;\n",
    "solve;\n",
    "display Row;\n",
    "\n",
    "solexpand row_attacks;"
   ]
  },
  {
   "cell_type": "markdown",
   "metadata": {
    "id": "VO6xUfSY8_fi"
   },
   "source": [
    "## if .. then ..  \n",
    "\n",
    "以下の例では、ランダムにデータを発生させた施設配置問題において、施設から出る量の合計が正なら、施設の固定費用が必要なことを `if .. then ..`を\n",
    "用いて記述している。混合整数最適化問題として記述する場合には、施設を開設するとき $1$、それ以外のとき $0$ になる変数が必要であるが、\n",
    "`if .. then ..`を用いても、自動的に $0$-$1$ 変数を追加して求解してくれる。"
   ]
  },
  {
   "cell_type": "code",
   "execution_count": 33,
   "metadata": {
    "colab": {
     "base_uri": "https://localhost:8080/"
    },
    "id": "AIOYkR2m8-oP",
    "outputId": "da44d801-fc2a-45ec-a316-3e26385ad3a4"
   },
   "outputs": [
    {
     "name": "stdout",
     "output_type": "stream",
     "text": [
      "HiGHS 1.10.0: optimal solution; objective 1216.446474\n",
      "7 simplex iterations\n",
      "1 branching nodes\n",
      "x [*,*] (tr)\n",
      ":       1         2      3      4         5       :=\n",
      "1    0         0         0   0         7.00354\n",
      "2    0         7.6232    0   0         0\n",
      "3    9.89917   0         0   0         0\n",
      "4    0         0         0   0         9.71021\n",
      "5    0         0         0   6.95342   0\n",
      "6    0         5.3371    0   0         0\n",
      "7    0         0         0   0         5.71001\n",
      "8    0         0         0   8.05193   0\n",
      "9    9.23089   0         0   0         0\n",
      "10   0         9.11613   0   0         0\n",
      ";\n",
      "\n"
     ]
    }
   ],
   "source": [
    "%%ampl_eval\n",
    "reset;\n",
    "# Set up the sets\n",
    "set I := 1..5;  # potential facility locations\n",
    "set J := 1..10;  # customers\n",
    "\n",
    "# Set up the parameters\n",
    "param f {i in I} = Normal(60, 20);  # fixed costs for each facility\n",
    "param c {i in I, j in J} = Uniform(10, 30);  # transportation costs from each facility to each customer\n",
    "param d {j in J} = Uniform(5, 10);  # demand for each customer\n",
    "\n",
    "# Set up the decision variables\n",
    "var x {i in I, j in J} >= 0, <= d[j];  # amount of demand for customer j satisfied by facility i\n",
    "\n",
    "# Set up the objective function\n",
    "minimize total_cost:\n",
    "    sum {i in I, j in J} c[i,j]*x[i,j] +\n",
    "        sum {i in I} if sum {j in J} x[i,j] > 0 then f[i];\n",
    "\n",
    "# Set up the constraints\n",
    "subject to demand_constraint {j in J}:\n",
    "    sum {i in I} x[i,j] = d[j];\n",
    "\n",
    "option solver highs;\n",
    "solve;\n",
    "display x;"
   ]
  },
  {
   "cell_type": "markdown",
   "metadata": {
    "id": "9gY0best9AHY"
   },
   "source": [
    "## 不連続な変数の領域\n",
    "\n",
    "栄養問題を例として、購入量を表す変数 `Buy`が不連続な領域である場合を考える。\n",
    "\n",
    "最初の例では、区間`[2,5]`か区間`[7,10]`の何れかであることを`union`演算子を用いて表現している。\n",
    "\n",
    "2番目の例では、$0$ もしくは$10$以上$50$以下であることを表している。\n",
    "\n",
    "3番目の例では、$0$から$4$も整数、もしくは $9$から$13$の整数、もしくは $17$から$20$の整数であることを表している。"
   ]
  },
  {
   "cell_type": "code",
   "execution_count": 38,
   "metadata": {
    "colab": {
     "base_uri": "https://localhost:8080/"
    },
    "id": "BZU8uN4D8-vR",
    "outputId": "87684174-2d21-4176-ed12-46472e58efbe"
   },
   "outputs": [
    {
     "name": "stdout",
     "output_type": "stream",
     "text": [
      "HiGHS 1.10.0: optimal solution; objective 101.0133333\n",
      "7 simplex iterations\n",
      "1 branching nodes\n",
      "Buy [*] :=\n",
      "BEEF   2\n",
      " CHK  10\n",
      "FISH   2\n",
      " HAM   2\n",
      " MCH  10\n",
      " MTL  10\n",
      " SPG   7.33333\n",
      " TUR   2\n",
      ";\n",
      "\n"
     ]
    }
   ],
   "source": [
    "%%ampl_eval\n",
    "reset;\n",
    "model;\n",
    "set NUTR;\n",
    "set FOOD;\n",
    "param cost {FOOD} > 0;\n",
    "param f_min {FOOD} >= 0;\n",
    "param f_max {j in FOOD} >= f_min[j];\n",
    "param n_min {NUTR} >= 0;\n",
    "param n_max {i in NUTR} >= n_min[i];\n",
    "param amt {NUTR,FOOD} >= 0;\n",
    "\n",
    "#union of two intervals\n",
    "var Buy {FOOD} in interval[2, 5] union interval[7,10]; #最初の例\n",
    "#var Buy {FOOD} in {0} union interval [10, 50];   　　　　　　　　　#2番目の例\n",
    "#var Buy {FOOD} in 0..4 union 9..13 union 17..20; 　　　　　　　　#3番目の例\n",
    "\n",
    "minimize Total_Cost: sum {j in FOOD} cost[j] * Buy[j];\n",
    "subject to Diet {i in NUTR}:\n",
    "n_min[i] <= sum {j in FOOD} amt[i,j] * Buy[j] <= n_max[i];\n",
    "\n",
    "data;\n",
    "set NUTR := A B1 B2 C ;\n",
    "set FOOD := BEEF CHK FISH HAM MCH MTL SPG TUR ;\n",
    "param:   cost  f_min  f_max :=\n",
    "BEEF   3.19    0     100\n",
    "CHK    2.59    0     100\n",
    "FISH   2.29    0     100\n",
    "HAM    2.89    0     100\n",
    "MCH    1.89    0     100\n",
    "MTL    1.99    0     100\n",
    "SPG    1.99    0     100\n",
    "TUR    2.49    0     100 ;\n",
    "param:   n_min  n_max :=\n",
    "A      700   10000\n",
    "C      700   10000\n",
    "B1     700   10000\n",
    "B2     700   10000 ;\n",
    "param amt (tr):\n",
    "        A    C   B1   B2 :=\n",
    "BEEF   60   20   10   15\n",
    "CHK     8    0   20   20\n",
    "FISH    8   10   15   10\n",
    "HAM    40   40   35   10\n",
    "MCH    15   35   15   15\n",
    "MTL    70   30   15   15\n",
    "SPG    25   50   25   15\n",
    "TUR    60   20   15   10 ;\n",
    "\n",
    "option solver highs;\n",
    "solve;\n",
    "display Buy;"
   ]
  },
  {
   "cell_type": "markdown",
   "metadata": {
    "id": "x_AZbtOeALLH"
   },
   "source": [
    "## 絶対値  abs\n",
    "\n",
    "絶対値は`abs`関数で記述できる。"
   ]
  },
  {
   "cell_type": "code",
   "execution_count": null,
   "metadata": {
    "colab": {
     "base_uri": "https://localhost:8080/"
    },
    "id": "jjjoHdz0ALWH",
    "outputId": "80d0885b-a4ca-4918-9a2a-ebedf990db38"
   },
   "outputs": [
    {
     "name": "stdout",
     "output_type": "stream",
     "text": [
      "HiGHS 1.10.0: \b\b\b\b\b\b\b\b\b\b\b\b\b\bHiGHS 1.10.0: optimal solution; objective -58\n",
      "1 simplex iterations\n",
      "1 branching nodes\n",
      "x [*] :=\n",
      "1  -30\n",
      "2   44\n",
      ";\n",
      "\n"
     ]
    }
   ],
   "source": [
    "%%ampl_eval\n",
    "reset;\n",
    "\n",
    "var x {1..2} >=-30 <=100;\n",
    "minimize Objective: abs(x[1]) - 2*abs(x[2]);\n",
    "s.t. Con1: 3*x[1] - 2*x[2] <=  8;\n",
    "s.t. Con2: x[1] +   x[2] == 14;\n",
    "\n",
    "option solver highs;\n",
    "solve;\n",
    "display x;\n",
    "\n",
    "#solexpand Objective;"
   ]
  },
  {
   "cell_type": "markdown",
   "metadata": {
    "id": "rqQcYr5s4kTS"
   },
   "source": [
    "## 最大・最小 min, max\n",
    "\n",
    "複数の式の最大・最小は`max`,`min`関数を用いて記述できる。\n",
    "以下では最大値の最小化を行っているので、線形最適化問題のまま求解している。これを最小値の最小化に変えると $0$-$1$変数が必要になるので、分枝限定法が実行される。\n",
    "この際、大きな数 (Big M) を用いるので、変数の範囲を明示的に定義しておくことが望ましい（以下の例では$1000$以下に設定している）。"
   ]
  },
  {
   "cell_type": "code",
   "execution_count": 18,
   "metadata": {
    "colab": {
     "base_uri": "https://localhost:8080/"
    },
    "id": "0kc9jHf84keh",
    "outputId": "05c74410-def1-47f0-e7ce-66a8c36272cc"
   },
   "outputs": [
    {
     "name": "stdout",
     "output_type": "stream",
     "text": [
      "HiGHS 1.10.0: optimal solution; objective 31.2\n",
      "4 simplex iterations\n",
      "0 barrier iterations\n",
      "x [*] :=\n",
      "1  7.2\n",
      "2  2.4\n",
      ";\n",
      "\n"
     ]
    }
   ],
   "source": [
    "%%ampl_eval\n",
    "reset;\n",
    "#最大値の最小化（BigMは使わない）\n",
    "var x {1..2} >=0;\n",
    "minimize Objective: max( 3 * x[1] + 4 * x[2], 2 * x[1] + 7 * x[2]);\n",
    "s.t. Con1: x[1] + 2 * x[2] >= 12;\n",
    "s.t. Con2: 2 * x[1] + x[2] >= 15;\n",
    "\n",
    "option solver highs;\n",
    "solve;\n",
    "display x;"
   ]
  },
  {
   "cell_type": "code",
   "execution_count": 19,
   "metadata": {
    "colab": {
     "base_uri": "https://localhost:8080/"
    },
    "id": "wrmHiyPf55oi",
    "outputId": "9ec6c40a-1704-4b2d-ec0a-88bb1db0248e"
   },
   "outputs": [
    {
     "name": "stdout",
     "output_type": "stream",
     "text": [
      "HiGHS 1.10.0: optimal solution; objective 24\n",
      "8 simplex iterations\n",
      "1 branching nodes\n",
      "x [*] :=\n",
      "1  12\n",
      "2   0\n",
      ";\n",
      "\n"
     ]
    }
   ],
   "source": [
    "%%ampl_eval\n",
    "reset;\n",
    "#最小値の最小化\n",
    "#Big Mを使うので、明示的に境界を設定する； gurobiだと設定なしでも解けるが、highsではエラーする、\n",
    "var x {1..2} >=0, <=1000; \n",
    "minimize Objective: min( 3 * x[1] + 4 * x[2], 2 * x[1] + 7 * x[2]);\n",
    "s.t. Con1: x[1] + 2 * x[2] >= 12;\n",
    "s.t. Con2: 2 * x[1] + x[2] >= 15;\n",
    "\n",
    "option solver highs;\n",
    "solve;\n",
    "display x;"
   ]
  },
  {
   "cell_type": "markdown",
   "metadata": {
    "id": "T3CXWPlz6pwP"
   },
   "source": [
    "## 区分的線形関数\n",
    "\n",
    "区分的線形関数 (piecewise linear function) は`<<端点のリスト;傾きのリスト >>`で記述する。\n",
    "\n",
    "非線形関数 $x^3-2x^2+5$ を区分的線形近似したときの端点と傾きのリストを準備しておく。\n",
    "傾きの方が、1つ多いことに注意されたい。"
   ]
  },
  {
   "cell_type": "code",
   "execution_count": 45,
   "metadata": {
    "colab": {
     "base_uri": "https://localhost:8080/"
    },
    "id": "M6qf6P3D6p9G",
    "outputId": "7d0a0509-0002-482d-a301-60ba1757fd16"
   },
   "outputs": [
    {
     "name": "stdout",
     "output_type": "stream",
     "text": [
      "[0, -1, 1, 9, 15]\n"
     ]
    }
   ],
   "source": [
    "def f(x):\n",
    "  return x**3-2*x**2+5\n",
    "\n",
    "def fprime(x):\n",
    "  return 3*x**2-4*x\n",
    "\n",
    "xlist=[0,1,2,3]\n",
    "ylist=list(map(f,xlist))\n",
    "slope = [fprime(xlist[0])]\n",
    "for i,x in enumerate(xlist[:-1]):\n",
    "  slope.append(f(xlist[i+1])-f(x))\n",
    "slope.append(fprime(xlist[-1]))\n",
    "print(slope)"
   ]
  },
  {
   "cell_type": "markdown",
   "metadata": {},
   "source": [
    "以下に、$x^3-2x^2+5$ と $0,1,2,3$を端点とした区分的線形近似関数を示す。"
   ]
  },
  {
   "cell_type": "code",
   "execution_count": 31,
   "metadata": {
    "editable": true,
    "slideshow": {
     "slide_type": ""
    },
    "tags": []
   },
   "outputs": [
    {
     "data": {
      "image/png": "[encoded data removed]",
      "text/plain": [
       "<Figure size 1000x600 with 1 Axes>"
      ]
     },
     "metadata": {},
     "output_type": "display_data"
    }
   ],
   "source": [
    "#|echo: false\n",
    "import matplotlib.pyplot as plt\n",
    "import numpy as np\n",
    "\n",
    "# 1. 3次関数の定義\n",
    "def f(x):\n",
    "    return x**3 - 2*x**2 + 5\n",
    "\n",
    "# 2. 3次関数のグラフ用データ生成\n",
    "# xの範囲 [0, 3] で滑らかな曲線を描くために十分な点を生成\n",
    "x_smooth = np.linspace(0, 3, 400)\n",
    "y_smooth = f(x_smooth)\n",
    "\n",
    "# 3. 区分的線形関数の端点データ生成\n",
    "# 端点となるxの値\n",
    "x_linear_points = np.array([0, 1, 2, 3])\n",
    "# これらのxの値に対応するyの値 (元の3次関数から計算)\n",
    "y_linear_points = f(x_linear_points)\n",
    "\n",
    "# 4. グラフの描画\n",
    "plt.figure(figsize=(10, 6)) # 図のサイズを適宜調整\n",
    "\n",
    "# 3次関数のプロット (実線)\n",
    "plt.plot(x_smooth, y_smooth, label=r'$f(x) = x^3 - 2x^2 + 5$', color='blue', linewidth=2)\n",
    "\n",
    "# 区分的線形関数のプロット (点線、端点にマーカーを表示)\n",
    "plt.plot(x_linear_points, y_linear_points,\n",
    "         linestyle=':',  # 点線 (doted line)\n",
    "         marker='o',       # 端点に丸マーカーを表示\n",
    "         color='red',\n",
    "         label='Piecewise Linear Approximation (endpoints: 0,1,2,3)')\n",
    "\n",
    "# 5. グラフの装飾\n",
    "#plt.title('Cubic Function and its Piecewise Linear Approximation')\n",
    "plt.xlabel('x')\n",
    "plt.ylabel('f(x)')\n",
    "plt.grid(True, linestyle='--', alpha=0.6) # グリッド線\n",
    "plt.legend() # 凡例を表示\n",
    "\n",
    "# 6. プロットの表示\n",
    "plt.show()"
   ]
  },
  {
   "cell_type": "markdown",
   "metadata": {},
   "source": [
    "以下のamplのモデルでは、端点のリストはパラメータ`xlist`で、傾きのリストはパラメータ`slope`で表している。\n",
    "パラメータは展開した形で代入し、`<< >>`の後ろには区分的線形関数を適用する変数`x`を書く。"
   ]
  },
  {
   "cell_type": "code",
   "execution_count": 52,
   "metadata": {
    "id": "ebndsdj19gDk"
   },
   "outputs": [],
   "source": [
    "%%ampl_eval\n",
    "reset;\n",
    "var x >=0, <=1000;\n",
    "param xlist{0..3};\n",
    "param slope{0..4};\n",
    "minimize Objective: << {i in 0..3} xlist[i];  {i in 0..4} slope[i] >> x;"
   ]
  },
  {
   "cell_type": "code",
   "execution_count": 53,
   "metadata": {
    "id": "mhv6lbEfaV0V"
   },
   "outputs": [],
   "source": [
    "ampl.param[\"xlist\"] = xlist\n",
    "ampl.param[\"slope\"] = slope"
   ]
  },
  {
   "cell_type": "code",
   "execution_count": 54,
   "metadata": {
    "colab": {
     "base_uri": "https://localhost:8080/"
    },
    "id": "Xl10t5aJaaL9",
    "outputId": "81aa8bdd-046f-4569-e624-00cc05d8cc2c"
   },
   "outputs": [
    {
     "name": "stdout",
     "output_type": "stream",
     "text": [
      "HiGHS 1.10.0: optimal solution; objective -1\n",
      "0 simplex iterations\n",
      "0 barrier iterations\n",
      "x = 1\n",
      "\n"
     ]
    }
   ],
   "source": [
    "%%ampl_eval\n",
    "option solver highs;\n",
    "solve;\n",
    "display x;"
   ]
  },
  {
   "cell_type": "markdown",
   "metadata": {
    "id": "xWeMeRgUeyEv"
   },
   "source": [
    "## 数え上げ  count, atleast, atmost\n",
    "\n",
    "輸送問題を例として `count`, `atleast`, `atmost` を解説する。\n",
    "\n",
    "`count`は条件を満たす要素の数を**カウント**する演算子である。\n",
    "以下の例では、$600$以上の輸送量がある経路が少なくとも$7$本あること規定している。\n",
    "\n",
    "```\n",
    "subject to Min_Serve:\n",
    "     count {i in ORIG, j in DEST} (Trans[i,j] >= 600) >= 7;\n",
    "```\n",
    "\n",
    "`atmost n`は条件を満たす要素の数が**高々**`n`個であることを規定する。\n",
    "以下の例では、$1000$以上の輸送量経路が高々$2$本があることを表す。\n",
    "\n",
    "```\n",
    "subject to at_most_k:\n",
    "    atmost 2 {i in ORIG, j in DEST} (Trans[i,j] >= 1000);\n",
    "```\n",
    "\n",
    "`atleast n`も同様に、条件を満たす要素の数が**少なくとも**`n`個であることを規定する。"
   ]
  },
  {
   "cell_type": "code",
   "execution_count": null,
   "metadata": {
    "colab": {
     "base_uri": "https://localhost:8080/"
    },
    "id": "6lyER9NfeyWq",
    "outputId": "e3d37e0d-204c-4340-b77f-39e550a74655"
   },
   "outputs": [
    {
     "name": "stdout",
     "output_type": "stream",
     "text": [
      "Gurobi 12.0.1:   tech:writegraph = model.jsonl\n",
      "Gurobi 12.0.1: optimal solution; objective 197000\n",
      "26 simplex iterations\n",
      "1 branching node\n",
      "Trans [*,*] (tr)\n",
      ":     CLEV   GARY   PITT    :=\n",
      "DET   1200      0      0\n",
      "FRA      0      0    900\n",
      "FRE      0   1100      0\n",
      "LAF      0    300    700\n",
      "LAN    600      0      0\n",
      "STL    600      0   1100\n",
      "WIN    200      0    200\n",
      ";\n",
      "\n"
     ]
    }
   ],
   "source": [
    "%%ampl_eval\n",
    "reset;\n",
    "model;\n",
    "set ORIG;   # origins\n",
    "set DEST;   # destinations\n",
    "\n",
    "param supply {ORIG} >= 0;   # amounts available at origins\n",
    "param demand {DEST} >= 0;   # amounts required at destinations\n",
    "\n",
    "   check: sum {i in ORIG} supply[i] = sum {j in DEST} demand[j];\n",
    "\n",
    "param cost {ORIG,DEST} >= 0;   # shipment costs per unit\n",
    "var Trans {ORIG,DEST} >= 0;    # units to be shipped\n",
    "\n",
    "minimize Total_Cost:\n",
    "   sum {i in ORIG, j in DEST} cost[i,j] * Trans[i,j];\n",
    "\n",
    "subject to Supply {i in ORIG}:\n",
    "   sum {j in DEST} Trans[i,j] = supply[i];\n",
    "\n",
    "subject to Demand {j in DEST}:\n",
    "   sum {i in ORIG} Trans[i,j] = demand[j];\n",
    "\n",
    "#少なくとも7本の経路が600以上の輸送量がある\n",
    "subject to Min_Serve:\n",
    "     count {i in ORIG, j in DEST} (Trans[i,j] >= 600) >= 7;\n",
    "\n",
    "#高々2本の経路が1000以上の輸送量がある（等号のtrickで3本のように見えるが、1000-epsilonと解釈）\n",
    "#subject to at_most_k:\n",
    "#    atmost 2 {i in ORIG, j in DEST} (Trans[i,j] >= 1000);\n",
    "\n",
    "data;\n",
    "param: ORIG:  supply :=  # defines set \"ORIG\" and param \"supply\"\n",
    "        GARY   1400\n",
    "        CLEV   2600\n",
    "        PITT   2900 ;\n",
    "\n",
    "param: DEST:  demand :=  # defines \"DEST\" and \"demand\"\n",
    "        FRA     900\n",
    "        DET    1200\n",
    "        LAN     600\n",
    "        WIN     400\n",
    "        STL    1700\n",
    "        FRE    1100\n",
    "        LAF    1000 ;\n",
    "\n",
    "param cost:\n",
    "         FRA  DET  LAN  WIN  STL  FRE  LAF :=\n",
    "   GARY   39   14   11   14   16   82    8\n",
    "   CLEV   27    9   12    9   26   95   17\n",
    "   PITT   24   14   17   13   28   99   20 ;\n",
    "\n",
    "option solver gurobi; #highsだと解けない\n",
    "solve;\n",
    "display Trans;"
   ]
  },
  {
   "cell_type": "markdown",
   "metadata": {
    "id": "H_v3THQ6mQMV"
   },
   "source": [
    "## 非線形関数\n",
    "\n",
    "以下の非線形関数をそのまま記述することができる。\n",
    "\n",
    "- log (expr), log10 (expr)\n",
    "- exp (expr)\n",
    "- sin (expr), cos (expr), tan (expr), asin (expr), acos (expr), atan (expr)\n",
    "- sinh (expr), cosh (expr), tanh (expr), asinh (expr), acosh (expr), atanh (expr)\n",
    "- expr1 ^ expr2\n",
    "\n",
    "ソルバーが対応可能な場合はそのまま、非対応の場合には区分的線形関数に近似する。\n",
    "\n",
    "例として、3次関数 $x^3-2x^2+5$ の最小化を行う。区分的線形近似のためには、変数 $x$ の範囲を明示的に定義しておく必要がある。\n",
    "\n",
    "自動的に区分的線形近似が行われ、最適解$4/3=1.33\\cdots$に近い解が得られることが確認できる。"
   ]
  },
  {
   "cell_type": "code",
   "execution_count": 38,
   "metadata": {},
   "outputs": [
    {
     "name": "stdout",
     "output_type": "stream",
     "text": [
      "Cannot find \"gorobi\"\n",
      "x = 0\n",
      "\n"
     ]
    }
   ],
   "source": [
    "%%ampl_eval\n",
    "reset;\n",
    "model;\n",
    "var x >=0, <=3;\n",
    "minimize Objective: x^3-2*x^2+5;\n",
    "option solver gorobi; #highsだと間違える；gurobiかscipもしくは非線形最適化ソルバー(knitro, ipopt)を用いる\n",
    "solve;\n",
    "display x;"
   ]
  },
  {
   "cell_type": "code",
   "execution_count": null,
   "metadata": {},
   "outputs": [],
   "source": []
  }
 ],
 "metadata": {
  "colab": {
   "provenance": [],
   "toc_visible": true
  },
  "kernelspec": {
   "display_name": "Python 3 (ipykernel)",
   "language": "python",
   "name": "python3"
  },
  "language_info": {
   "codemirror_mode": {
    "name": "ipython",
    "version": 3
   },
   "file_extension": ".py",
   "mimetype": "text/x-python",
   "name": "python",
   "nbconvert_exporter": "python",
   "pygments_lexer": "ipython3",
   "version": "3.13.2"
  }
 },
 "nbformat": 4,
 "nbformat_minor": 4
}
